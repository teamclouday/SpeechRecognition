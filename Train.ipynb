{
 "cells": [
  {
   "cell_type": "markdown",
   "metadata": {},
   "source": [
    "## Train a Model"
   ]
  },
  {
   "cell_type": "code",
   "execution_count": 1,
   "metadata": {},
   "outputs": [],
   "source": [
    "import os\n",
    "import math\n",
    "import numpy as np\n",
    "import tensorflow as tf"
   ]
  },
  {
   "cell_type": "code",
   "execution_count": 2,
   "metadata": {},
   "outputs": [
    {
     "name": "stdout",
     "output_type": "stream",
     "text": [
      "2.1.0\n"
     ]
    },
    {
     "data": {
      "text/plain": [
       "[PhysicalDevice(name='/physical_device:GPU:0', device_type='GPU')]"
      ]
     },
     "execution_count": 2,
     "metadata": {},
     "output_type": "execute_result"
    }
   ],
   "source": [
    "print(tf.__version__)\n",
    "tf.config.list_physical_devices('GPU')"
   ]
  },
  {
   "cell_type": "code",
   "execution_count": 3,
   "metadata": {},
   "outputs": [],
   "source": [
    "from myutils import *"
   ]
  },
  {
   "cell_type": "code",
   "execution_count": 4,
   "metadata": {},
   "outputs": [],
   "source": [
    "data_train_path = os.path.join(\"train.csv\")\n",
    "data_test_path = os.path.join(\"test.csv\")\n",
    "batch_size = 256\n",
    "max_audio_duration = 20 # in seconds\n",
    "feature_height = 40\n",
    "feature_choice = \"mfcc\""
   ]
  },
  {
   "cell_type": "code",
   "execution_count": 5,
   "metadata": {},
   "outputs": [
    {
     "name": "stdout",
     "output_type": "stream",
     "text": [
      "AudioTextGenerator: self.data.shape = (103997, 3)\n",
      "AudioTextGenerator: self.data.shape = (2528, 3)\n"
     ]
    }
   ],
   "source": [
    "train_gen = AudioTextGenerator(data_train_path,\n",
    "                               batch_size=batch_size,\n",
    "                               max_audio_length=max_audio_duration,\n",
    "                               feature_height=feature_height,\n",
    "                               feature_choice=feature_choice,\n",
    "                               max_text_length=400)\n",
    "test_gen = AudioTextGenerator(data_test_path,\n",
    "                               batch_size=5, # a smaller batch size for test to reduce time\n",
    "                               max_audio_length=max_audio_duration,\n",
    "                               feature_height=feature_height,\n",
    "                               feature_choice=feature_choice,\n",
    "                               max_text_length=400)"
   ]
  },
  {
   "cell_type": "code",
   "execution_count": 6,
   "metadata": {},
   "outputs": [],
   "source": [
    "# NN parameters\n",
    "conv_filters = 16\n",
    "kernel_size = (3, 3)\n",
    "pool_size = 2\n",
    "time_dense_size = 32\n",
    "rnn_size = 512\n",
    "max_audio_length = train_gen.max_audio_length\n",
    "max_text_length = 400\n",
    "input_shape = (max_audio_length, feature_height, 1)\n",
    "starting_epoch = 5"
   ]
  },
  {
   "cell_type": "code",
   "execution_count": 7,
   "metadata": {},
   "outputs": [
    {
     "name": "stdout",
     "output_type": "stream",
     "text": [
      "Model: \"model\"\n",
      "__________________________________________________________________________________________________\n",
      "Layer (type)                    Output Shape         Param #     Connected to                     \n",
      "==================================================================================================\n",
      "the_input (InputLayer)          [(None, 625, 40, 1)] 0                                            \n",
      "__________________________________________________________________________________________________\n",
      "conv1 (Conv2D)                  (None, 625, 40, 16)  160         the_input[0][0]                  \n",
      "__________________________________________________________________________________________________\n",
      "max1 (MaxPooling2D)             (None, 625, 20, 16)  0           conv1[0][0]                      \n",
      "__________________________________________________________________________________________________\n",
      "conv2 (Conv2D)                  (None, 625, 20, 16)  2320        max1[0][0]                       \n",
      "__________________________________________________________________________________________________\n",
      "max2 (MaxPooling2D)             (None, 625, 10, 16)  0           conv2[0][0]                      \n",
      "__________________________________________________________________________________________________\n",
      "reshape (Reshape)               (None, 625, 160)     0           max2[0][0]                       \n",
      "__________________________________________________________________________________________________\n",
      "dense1 (Dense)                  (None, 625, 32)      5152        reshape[0][0]                    \n",
      "__________________________________________________________________________________________________\n",
      "gru1 (GRU)                      (None, 625, 512)     838656      dense1[0][0]                     \n",
      "__________________________________________________________________________________________________\n",
      "gru1_b (GRU)                    (None, 625, 512)     838656      dense1[0][0]                     \n",
      "__________________________________________________________________________________________________\n",
      "add (Add)                       (None, 625, 512)     0           gru1[0][0]                       \n",
      "                                                                 gru1_b[0][0]                     \n",
      "__________________________________________________________________________________________________\n",
      "gru2 (GRU)                      (None, 625, 512)     1575936     add[0][0]                        \n",
      "__________________________________________________________________________________________________\n",
      "gru2_b (GRU)                    (None, 625, 512)     1575936     add[0][0]                        \n",
      "__________________________________________________________________________________________________\n",
      "concatenate (Concatenate)       (None, 625, 1024)    0           gru2[0][0]                       \n",
      "                                                                 gru2_b[0][0]                     \n",
      "__________________________________________________________________________________________________\n",
      "dense2 (Dense)                  (None, 625, 29)      29725       concatenate[0][0]                \n",
      "__________________________________________________________________________________________________\n",
      "softmax (Activation)            (None, 625, 29)      0           dense2[0][0]                     \n",
      "__________________________________________________________________________________________________\n",
      "the_labels (InputLayer)         [(None, 400)]        0                                            \n",
      "__________________________________________________________________________________________________\n",
      "input_length (InputLayer)       [(None, 1)]          0                                            \n",
      "__________________________________________________________________________________________________\n",
      "label_length (InputLayer)       [(None, 1)]          0                                            \n",
      "__________________________________________________________________________________________________\n",
      "ctc (Lambda)                    (None, 1)            0           softmax[0][0]                    \n",
      "                                                                 the_labels[0][0]                 \n",
      "                                                                 input_length[0][0]               \n",
      "                                                                 label_length[0][0]               \n",
      "==================================================================================================\n",
      "Total params: 4,866,541\n",
      "Trainable params: 4,866,541\n",
      "Non-trainable params: 0\n",
      "__________________________________________________________________________________________________\n",
      "None\n"
     ]
    }
   ],
   "source": [
    "tf.keras.backend.clear_session()\n",
    "\n",
    "input_data = tf.keras.layers.Input(name=\"the_input\", shape=input_shape, dtype=\"float32\")\n",
    "\n",
    "inner = tf.keras.layers.Conv2D(conv_filters, kernel_size, padding=\"same\", activation=\"relu\", kernel_initializer=\"he_normal\", name=\"conv1\")(input_data)\n",
    "inner = tf.keras.layers.MaxPool2D(pool_size=(1, pool_size), name=\"max1\")(inner)\n",
    "\n",
    "inner = tf.keras.layers.Conv2D(conv_filters, kernel_size, padding=\"same\", activation=\"relu\", kernel_initializer=\"he_normal\", name=\"conv2\")(inner)\n",
    "inner = tf.keras.layers.MaxPool2D(pool_size=(1, pool_size), name=\"max2\")(inner)\n",
    "\n",
    "inner = tf.keras.layers.Reshape(target_shape=(max_audio_length, (feature_height // (pool_size ** 2)) * conv_filters), name=\"reshape\")(inner)\n",
    "inner = tf.keras.layers.Dense(time_dense_size, activation=\"relu\", name=\"dense1\")(inner)\n",
    "\n",
    "gru_1 = tf.keras.layers.GRU(rnn_size, return_sequences=True, kernel_initializer=\"he_normal\", name=\"gru1\")(inner)\n",
    "gru_1b = tf.keras.layers.GRU(rnn_size, return_sequences=True, go_backwards=True, kernel_initializer=\"he_normal\", name=\"gru1_b\")(inner)\n",
    "gru1_merged = tf.keras.layers.add([gru_1, gru_1b])\n",
    "\n",
    "gru_2 = tf.keras.layers.GRU(rnn_size, return_sequences=True, kernel_initializer=\"he_normal\", name=\"gru2\")(gru1_merged)\n",
    "gru_2b = tf.keras.layers.GRU(rnn_size, return_sequences=True, go_backwards=True, kernel_initializer=\"he_normal\", name=\"gru2_b\")(gru1_merged)\n",
    "\n",
    "inner = tf.keras.layers.Dense(len(CHAR_LIST) + 1, kernel_initializer=\"he_normal\", name=\"dense2\")(tf.keras.layers.concatenate([gru_2, gru_2b]))\n",
    "y_pred = tf.keras.layers.Activation('softmax', name='softmax')(inner)\n",
    "\n",
    "labels = tf.keras.layers.Input(name=\"the_labels\", shape=[max_text_length], dtype=\"float32\")\n",
    "input_length = tf.keras.layers.Input(name=\"input_length\", shape=[1], dtype=\"int64\")\n",
    "label_length = tf.keras.layers.Input(name='label_length', shape=[1], dtype='int64')\n",
    "loss_out = tf.keras.layers.Lambda(ctc_lambda_func, output_shape=(1,), name=\"ctc\")([y_pred, labels, input_length, label_length])\n",
    "\n",
    "model = tf.keras.Model(inputs=[input_data, labels, input_length, label_length], outputs=loss_out)\n",
    "#optimizer = tf.keras.optimizers.RMSprop(learning_rate=0.001) # for epoch 0 ~ 5\n",
    "optimizer = tf.keras.optimizers.RMSprop(learning_rate=0.0001) # for later\n",
    "model.compile(loss={'ctc': lambda y_true, y_pred: y_pred}, optimizer=optimizer)\n",
    "print(model.summary())\n",
    "\n",
    "if starting_epoch > 0:\n",
    "    weight_path = os.path.join(\"ckpt\", \"04_06\", 'weights%02d.h5' % (starting_epoch - 1))\n",
    "    model.load_weights(weight_path)\n",
    "\n",
    "test_func = tf.keras.backend.function([input_data], [y_pred])\n",
    "myCallback = ValCallback(ckpt_path=os.path.join(\"ckpt\", \"04_06\"),\n",
    "                         test_func=test_func,\n",
    "                         next_val=test_gen.next_batch(),\n",
    "                         num_display=5)"
   ]
  },
  {
   "cell_type": "code",
   "execution_count": null,
   "metadata": {},
   "outputs": [
    {
     "name": "stdout",
     "output_type": "stream",
     "text": [
      "WARNING:tensorflow:sample_weight modes were coerced from\n",
      "  {'ctc': '...'}\n",
      "    to  \n",
      "  ['...']\n",
      "WARNING:tensorflow:sample_weight modes were coerced from\n",
      "  {'ctc': '...'}\n",
      "    to  \n",
      "  ['...']\n",
      "Train for 405 steps, validate for 5 steps\n",
      "Epoch 6/20\n",
      "  3/405 [..............................] - ETA: 1:58:19 - loss: 244.2607"
     ]
    }
   ],
   "source": [
    "model.fit(x=train_gen.next_batch(),\n",
    "          steps_per_epoch=len(train_gen.data)//batch_size-1,\n",
    "          #steps_per_epoch=2,\n",
    "          epochs=20,\n",
    "          validation_data=test_gen.next_batch(),\n",
    "          validation_steps=5,\n",
    "          callbacks=[myCallback],\n",
    "          verbose=1,\n",
    "          initial_epoch=starting_epoch)"
   ]
  }
 ],
 "metadata": {
  "kernelspec": {
   "display_name": "Python 3",
   "language": "python",
   "name": "python3"
  },
  "language_info": {
   "codemirror_mode": {
    "name": "ipython",
    "version": 3
   },
   "file_extension": ".py",
   "mimetype": "text/x-python",
   "name": "python",
   "nbconvert_exporter": "python",
   "pygments_lexer": "ipython3",
   "version": "3.5.3"
  }
 },
 "nbformat": 4,
 "nbformat_minor": 4
}